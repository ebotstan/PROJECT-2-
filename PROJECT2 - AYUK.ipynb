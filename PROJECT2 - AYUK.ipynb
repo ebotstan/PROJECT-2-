{
 "cells": [
  {
   "cell_type": "code",
   "execution_count": null,
   "id": "d2031d02",
   "metadata": {},
   "outputs": [],
   "source": [
    "menu_item = {\"Espresso\" : 1.50, \"Americano\": 2.00, \"Caffe_latte\" : 2.25, \"Mocha\":2.25,\n",
    "\"Cappucino\": 2.50,\n",
    "\"Macchiato\": 2.50,\n",
    "\n",
    "\"White_tea\": 1.50,\n",
    "\"Green_tea\": 2.00,\n",
    "\"Oolong_tea\": 2.25,\n",
    "\"Black_tea\": 2.25,\n",
    "\"Earl_Grey\": 2.50,\n",
    "\"Matcha\": 2.50,\n",
    "\n",
    "\"Croissant\": 5.50,\n",
    "\"Cinnamon_roll\": 4.50,\n",
    "\"Banana_bread\": 4.25,\n",
    "\"Pumpkin_bread\": 3.75,\n",
    "\"Sticky_bun\": 4.25,\n",
    "\"Apple_turnover\": 3.75,\n",
    "}\n",
    "total = 0\n",
    "tax = 0.06\n",
    "print(\"Welcome to MC Cafe!\")\n",
    "request = input(\"Would you like to see the menu? Enter 'Y' or 'N': \")\n",
    "if request.lower() == 'Y':\n",
    "  print(menu_item)\n",
    "  choice = input(\"Enter item:   \")\n",
    "  quantity = int(input(\"Enter quantity: \"))\n",
    "total_items = [choice]  \n",
    "total += menu_item.get(choice ) * quantity * tax\n",
    "\n",
    "\n",
    "print(\"Thank you for visiting MC Cafe!\")\n"
   ]
  }
 ],
 "metadata": {
  "kernelspec": {
   "display_name": "Python 3 (ipykernel)",
   "language": "python",
   "name": "python3"
  },
  "language_info": {
   "codemirror_mode": {
    "name": "ipython",
    "version": 3
   },
   "file_extension": ".py",
   "mimetype": "text/x-python",
   "name": "python",
   "nbconvert_exporter": "python",
   "pygments_lexer": "ipython3",
   "version": "3.9.7"
  }
 },
 "nbformat": 4,
 "nbformat_minor": 5
}
